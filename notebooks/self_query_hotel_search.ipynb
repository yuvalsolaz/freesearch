{
 "cells": [
  {
   "cell_type": "markdown",
   "id": "f2605a68-4ec8-40c5-aefc-e5ae7b23b884",
   "metadata": {},
   "source": [
    "# Building hotel room search with self-querying retrieval\n",
    "\n",
    "In this example we'll walk through how to build and iterate on a hotel room search service that leverages an LLM to generate structured filter queries that can then be passed to a vector store.\n",
    "\n",
    "For an introduction to self-querying retrieval [check out the docs](https://python.langchain.com/docs/modules/data_connection/retrievers/self_query)."
   ]
  },
  {
   "cell_type": "markdown",
   "id": "d621de99-d993-4f4b-b94a-d02b2c7ad4e0",
   "metadata": {},
   "source": [
    "## Imports and data prep\n",
    "\n",
    "In this example we use `ChatOpenAI` for the model and `ElasticsearchStore` for the vector store, but these can be swapped out with an LLM/ChatModel and [any VectorStore that support self-querying](https://python.langchain.com/docs/integrations/retrievers/self_query/).\n",
    "\n",
    "Download data from: https://www.kaggle.com/datasets/keshavramaiah/hotel-recommendation"
   ]
  },
  {
   "cell_type": "code",
   "execution_count": null,
   "id": "0a438d9f-1854-4a4d-beca-60b74f5795ac",
   "metadata": {},
   "outputs": [],
   "source": [
    "import langchain"
   ]
  },
  {
   "cell_type": "code",
   "execution_count": null,
   "id": "14d48ff6-2552-4b95-95a9-42dd444471d9",
   "metadata": {},
   "outputs": [],
   "source": [
    "# from langchain_openai import ChatOpenAI\n",
    "import pandas as pd\n",
    "import json"
   ]
  },
  {
   "cell_type": "code",
   "execution_count": null,
   "id": "5e841140-a589-4d00-bf30-36e1144cbafc",
   "metadata": {},
   "outputs": [],
   "source": [
    "import os\n",
    "data_root = r'../data/'\n",
    "os.listdir(data_root)\n"
   ]
  },
  {
   "cell_type": "code",
   "execution_count": null,
   "id": "b852ec6e-7bf6-405e-ae7f-f457eb6e17f1",
   "metadata": {},
   "outputs": [],
   "source": [
    "details = (pd.read_csv(os.path.join(data_root, 'Hotel_details.csv')).drop_duplicates(subset=\"hotelid\").set_index(\"hotelid\"))\n",
    "    \n",
    "attributes = pd.read_csv(os.path.join(data_root,'Hotel_Room_attributes.csv'), index_col='id')\n",
    "                         \n",
    "price = pd.read_csv(os.path.join(data_root, 'hotels_RoomPrice.csv'), index_col='id')\n"
   ]
  },
  {
   "cell_type": "code",
   "execution_count": null,
   "id": "35a32177-2ca5-4d10-b8dc-f34c25795630",
   "metadata": {},
   "outputs": [],
   "source": [
    "latest_price = price.drop_duplicates(subset=\"refid\", keep=\"last\")[\n",
    "    [\n",
    "        \"hotelcode\",\n",
    "        \"roomtype\",\n",
    "        \"onsiterate\",\n",
    "        \"roomamenities\",\n",
    "        \"maxoccupancy\",\n",
    "        \"mealinclusiontype\",\n",
    "    ]\n",
    "]\n",
    "latest_price[\"ratedescription\"] = attributes.loc[latest_price.index][\"ratedescription\"]\n",
    "latest_price = latest_price.join(\n",
    "    details[[\"hotelname\", \"city\", \"country\", \"starrating\"]], on=\"hotelcode\"\n",
    ")\n",
    "latest_price = latest_price.rename({\"ratedescription\": \"roomdescription\"}, axis=1)\n",
    "latest_price[\"mealsincluded\"] = ~latest_price[\"mealinclusiontype\"].isnull()\n",
    "latest_price.pop(\"hotelcode\")\n",
    "latest_price.pop(\"mealinclusiontype\")\n",
    "latest_price = latest_price.reset_index(drop=True)\n",
    "latest_price.head()"
   ]
  },
  {
   "cell_type": "markdown",
   "id": "1e4742af-c178-4cf7-a548-b97b3e37bd55",
   "metadata": {},
   "source": [
    "## Describe data attributes\n",
    "\n",
    "We'll use a self-query retriever, which requires us to describe the metadata we can filter on.\n",
    "\n",
    "Or if we're feeling lazy we can have a model write a draft of the descriptions for us :)"
   ]
  },
  {
   "cell_type": "code",
   "execution_count": null,
   "id": "46a01b77-8c5c-41ea-a0ad-cc91751a3b96",
   "metadata": {},
   "outputs": [],
   "source": [
    "# !pip install python-dotenv\n",
    "from dotenv import load_dotenv\n",
    "load_dotenv()\n",
    "api_key = os.environ.get('OPENAI_API_KEY')\n",
    "print(f'api-key: {api_key}')"
   ]
  },
  {
   "cell_type": "code",
   "execution_count": null,
   "id": "48991445-75d4-46e0-8203-1a154f992495",
   "metadata": {},
   "outputs": [],
   "source": [
    "import requests\n",
    "endpoint = 'https://api.openai.com/v1/chat/completions'\n",
    "\n",
    "# prompt the text you want to complete\n",
    "def openai_call(messages: list, model='gpt-4'):\n",
    "    api_key= os.environ.get('OPENAI_API_KEY')\n",
    "    \n",
    "    headers = {'Content-Type': 'application/json', 'Authorization': f'Bearer {api_key}'}\n",
    "    data = {'model': model, 'messages': messages}\n",
    "    response = requests.post(endpoint, json=data, headers=headers)\n",
    "\n",
    "    print(response)\n",
    "    return response.json()['choices'][0]['message']['content']\n"
   ]
  },
  {
   "cell_type": "code",
   "execution_count": null,
   "id": "e21e21e8-5016-47ec-bdc9-1ac89a783fef",
   "metadata": {},
   "outputs": [],
   "source": [
    "messages=[\n",
    "    {\"role\": \"system\",\n",
    "     \"content\": \"Below is a table with information about hotel rooms. \"\n",
    "                 \"Return a JSON list with an entry for each column. Each entry should have \"\n",
    "                 '{\"name\": \"column name\", \"description\": \"column description\", \"type\": \"column data type\"}'\n",
    "                 f\"\\n\\n{latest_price.head()}\\n\\nJSON:\\n\"\n",
    "    }\n",
    "]\n",
    "\n",
    "completion = openai_call(messages=messages, model=\"gpt-4\")\n",
    "\n",
    "print(completion)\n"
   ]
  },
  {
   "cell_type": "code",
   "execution_count": null,
   "id": "7d53c196-e1a3-4031-b5bc-6fe8c859ab7c",
   "metadata": {},
   "outputs": [],
   "source": []
  },
  {
   "cell_type": "code",
   "execution_count": null,
   "id": "d831664d-68cd-4dba-aad2-9248f10c7663",
   "metadata": {},
   "outputs": [],
   "source": [
    "import json\n",
    "\n",
    "attribute_info = json.loads(res)\n",
    "attribute_info"
   ]
  },
  {
   "cell_type": "markdown",
   "id": "aadb16c5-9f70-4bcc-b4fa-1af31bc8e38a",
   "metadata": {},
   "source": [
    "For low cardinality features, let's include the valid values in the description"
   ]
  },
  {
   "cell_type": "code",
   "execution_count": null,
   "id": "cce77f43-980a-4ab6-923a-0f9d70a093d6",
   "metadata": {},
   "outputs": [],
   "source": [
    "latest_price.nunique()[latest_price.nunique() < 40]"
   ]
  },
  {
   "cell_type": "code",
   "execution_count": null,
   "id": "2db33ed8-4f91-4a2d-9613-9dd6c9fcdbcb",
   "metadata": {},
   "outputs": [],
   "source": [
    "attribute_info[-2][\n",
    "    \"description\"\n",
    "] += f\". Valid values are {sorted(latest_price['starrating'].value_counts().index.tolist())}\"\n",
    "attribute_info[3][\n",
    "    \"description\"\n",
    "] += f\". Valid values are {sorted(latest_price['maxoccupancy'].value_counts().index.tolist())}\"\n",
    "attribute_info[-3][\n",
    "    \"description\"\n",
    "] += f\". Valid values are {sorted(latest_price['country'].value_counts().index.tolist())}\""
   ]
  },
  {
   "cell_type": "code",
   "execution_count": null,
   "id": "89c7461b-e6f7-4608-9929-ae952fb3348c",
   "metadata": {},
   "outputs": [],
   "source": [
    "attribute_info"
   ]
  },
  {
   "cell_type": "markdown",
   "id": "81c75a25-9c64-4da6-87ae-580bd47962bb",
   "metadata": {},
   "source": [
    "## Creating a query constructor chain\n",
    "\n",
    "Let's take a look at the chain that will convert natural language requests into structured queries.\n",
    "\n",
    "To start we can just load the prompt and see what it looks like"
   ]
  },
  {
   "cell_type": "code",
   "execution_count": null,
   "id": "b960f5f4-75f7-4a93-959f-b5293986b864",
   "metadata": {},
   "outputs": [],
   "source": [
    "from langchain.chains.query_constructor.base import (\n",
    "    get_query_constructor_prompt,\n",
    "    load_query_constructor_runnable,\n",
    ")"
   ]
  },
  {
   "cell_type": "code",
   "execution_count": null,
   "id": "bc85c90d-08fc-444f-b912-c6b2ac089bfd",
   "metadata": {},
   "outputs": [],
   "source": [
    "doc_contents = \"Detailed description of a hotel room\"\n",
    "prompt = get_query_constructor_prompt(doc_contents, attribute_info)\n",
    "print(prompt.format(query=\"{query}\"))"
   ]
  },
  {
   "cell_type": "code",
   "execution_count": null,
   "id": "1e7efcae-7943-4200-be43-5c5117ba1c9d",
   "metadata": {},
   "outputs": [],
   "source": [
    "chain = load_query_constructor_runnable(\n",
    "    ChatOpenAI(model=\"gpt-3.5-turbo\", temperature=0), doc_contents, attribute_info\n",
    ")"
   ]
  },
  {
   "cell_type": "code",
   "execution_count": null,
   "id": "74bf0cb2-84a5-45ef-8fc3-cbcffcaf0bbf",
   "metadata": {},
   "outputs": [],
   "source": [
    "chain.invoke({\"query\": \"I want a hotel in Southern Europe and my budget is 200 bucks.\"})"
   ]
  },
  {
   "cell_type": "code",
   "execution_count": null,
   "id": "3ad704f3-679b-4dd2-b6c3-b4469ba60848",
   "metadata": {},
   "outputs": [],
   "source": [
    "chain.invoke(\n",
    "    {\n",
    "        \"query\": \"Find a 2-person room in Vienna or London, preferably with meals included and AC\"\n",
    "    }\n",
    ")"
   ]
  },
  {
   "cell_type": "markdown",
   "id": "109591d0-758a-48ab-b337-41092c6d289f",
   "metadata": {},
   "source": [
    "## Refining attribute descriptions\n",
    "\n",
    "We can see that at least two issues above. First is that when we ask for a Southern European destination we're only getting a filter for Italy, and second when we ask for AC we get a literal string lookup for AC (which isn't so bad but will miss things like 'Air conditioning').\n",
    "\n",
    "As a first step, let's try to update our description of the 'country' attribute to emphasize that equality should only be used when a specific country is mentioned."
   ]
  },
  {
   "cell_type": "code",
   "execution_count": null,
   "id": "07b6a751-5122-4283-aa32-0f3bbc5e4354",
   "metadata": {},
   "outputs": [],
   "source": [
    "attribute_info[-3][\n",
    "    \"description\"\n",
    "] += \". NOTE: Only use the 'eq' operator if a specific country is mentioned. If a region is mentioned, include all relevant countries in filter.\"\n",
    "chain = load_query_constructor_runnable(\n",
    "    ChatOpenAI(model=\"gpt-3.5-turbo\", temperature=0),\n",
    "    doc_contents,\n",
    "    attribute_info,\n",
    ")"
   ]
  },
  {
   "cell_type": "code",
   "execution_count": null,
   "id": "ca33b44c-29bd-4d63-bb3e-ff8eabe1e86c",
   "metadata": {},
   "outputs": [],
   "source": [
    "chain.invoke({\"query\": \"I want a hotel in Southern Europe and my budget is 200 bucks.\"})"
   ]
  },
  {
   "cell_type": "markdown",
   "id": "eb793908-ea10-4a55-96b8-ab6915262c50",
   "metadata": {},
   "source": [
    "## Refining which attributes to filter on\n",
    "\n",
    "This seems to have helped! Now let's try to narrow the attributes we're filtering on. More freeform attributes we can leave to the main query, which is better for capturing semantic meaning than searching for specific substrings."
   ]
  },
  {
   "cell_type": "code",
   "execution_count": null,
   "id": "7ca32075-9361-48c1-b349-511a1dd4f908",
   "metadata": {},
   "outputs": [],
   "source": [
    "content_attr = [\"roomtype\", \"roomamenities\", \"roomdescription\", \"hotelname\"]\n",
    "doc_contents = \"A detailed description of a hotel room, including information about the room type and room amenities.\"\n",
    "filter_attribute_info = tuple(\n",
    "    ai for ai in attribute_info if ai[\"name\"] not in content_attr\n",
    ")\n",
    "chain = load_query_constructor_runnable(\n",
    "    ChatOpenAI(model=\"gpt-3.5-turbo\", temperature=0),\n",
    "    doc_contents,\n",
    "    filter_attribute_info,\n",
    ")"
   ]
  },
  {
   "cell_type": "code",
   "execution_count": null,
   "id": "8eb956af-a799-4267-a098-d443c975ee0f",
   "metadata": {},
   "outputs": [],
   "source": [
    "chain.invoke(\n",
    "    {\n",
    "        \"query\": \"Find a 2-person room in Vienna or London, preferably with meals included and AC\"\n",
    "    }\n",
    ")"
   ]
  },
  {
   "cell_type": "markdown",
   "id": "b0263ad4-aef9-48ce-be66-eabd1999beb3",
   "metadata": {},
   "source": [
    "## Adding examples specific to our use case\n",
    "\n",
    "We've removed the strict filter for 'AC' but it's still not being included in the query string. Our chain prompt is a few-shot prompt with some default examples. Let's see if adding use case-specific examples will help:"
   ]
  },
  {
   "cell_type": "code",
   "execution_count": null,
   "id": "62b903c1-3861-4aef-9ea6-1666eeee503c",
   "metadata": {
    "scrolled": true
   },
   "outputs": [],
   "source": [
    "examples = [\n",
    "    (\n",
    "        \"I want a hotel in the Balkans with a king sized bed and a hot tub. Budget is $300 a night\",\n",
    "        {\n",
    "            \"query\": \"king-sized bed, hot tub\",\n",
    "            \"filter\": 'and(in(\"country\", [\"Bulgaria\", \"Greece\", \"Croatia\", \"Serbia\"]), lte(\"onsiterate\", 300))',\n",
    "        },\n",
    "    ),\n",
    "    (\n",
    "        \"A room with breakfast included for 3 people, at a Hilton\",\n",
    "        {\n",
    "            \"query\": \"Hilton\",\n",
    "            \"filter\": 'and(eq(\"mealsincluded\", true), gte(\"maxoccupancy\", 3))',\n",
    "        },\n",
    "    ),\n",
    "]\n",
    "prompt = get_query_constructor_prompt(\n",
    "    doc_contents, filter_attribute_info, examples=examples\n",
    ")\n",
    "print(prompt.format(query=\"{query}\"))"
   ]
  },
  {
   "cell_type": "code",
   "execution_count": null,
   "id": "0f27f3eb-7261-4362-8060-58fbdc8beece",
   "metadata": {},
   "outputs": [],
   "source": [
    "chain = load_query_constructor_runnable(\n",
    "    ChatOpenAI(model=\"gpt-3.5-turbo\", temperature=0),\n",
    "    doc_contents,\n",
    "    filter_attribute_info,\n",
    "    examples=examples,\n",
    ")"
   ]
  },
  {
   "cell_type": "code",
   "execution_count": null,
   "id": "5808741d-971a-4bb1-a8f0-c403059df842",
   "metadata": {},
   "outputs": [],
   "source": [
    "chain.invoke(\n",
    "    {\n",
    "        \"query\": \"Find a 2-person room in Vienna or London, preferably with meals included and AC\"\n",
    "    }\n",
    ")"
   ]
  },
  {
   "cell_type": "markdown",
   "id": "8d66439f-4a4f-44c7-8b9a-8b2d5d6a3683",
   "metadata": {},
   "source": [
    "This seems to have helped! Let's try another complex query:"
   ]
  },
  {
   "cell_type": "code",
   "execution_count": null,
   "id": "29ed9602-8950-44c9-aaf8-32b69235eb8c",
   "metadata": {},
   "outputs": [],
   "source": [
    "chain.invoke(\n",
    "    {\n",
    "        \"query\": \"I want to stay somewhere highly rated along the coast. I want a room with a patio and a fireplace.\"\n",
    "    }\n",
    ")"
   ]
  },
  {
   "cell_type": "markdown",
   "id": "c845a5e3-9a4c-4f8d-b5af-6493fd0186cb",
   "metadata": {},
   "source": [
    "## Automatically ignoring invalid queries\n",
    "\n",
    "It seems our model get's tripped up on this more complex query and tries to search over an attribute ('description') that doesn't exist. By setting `fix_invalid=True` in our query constructor chain, we can automatically remove any parts of the filter that is invalid (meaning it's using disallowed operations, comparisons or attributes)."
   ]
  },
  {
   "cell_type": "code",
   "execution_count": null,
   "id": "fff986c4-ba52-4619-afdb-b0545834c0f8",
   "metadata": {},
   "outputs": [],
   "source": [
    "chain = load_query_constructor_runnable(\n",
    "    ChatOpenAI(model=\"gpt-3.5-turbo\", temperature=0),\n",
    "    doc_contents,\n",
    "    filter_attribute_info,\n",
    "    examples=examples,\n",
    "    fix_invalid=True,\n",
    ")"
   ]
  },
  {
   "cell_type": "code",
   "execution_count": null,
   "id": "bdafa338-ca2f-4587-9457-472a6b9a9b27",
   "metadata": {},
   "outputs": [],
   "source": [
    "chain.invoke(\n",
    "    {\n",
    "        \"query\": \"I want to stay somewhere highly rated along the coast. I want a room with a patio and a fireplace.\"\n",
    "    }\n",
    ")"
   ]
  },
  {
   "cell_type": "markdown",
   "id": "8251d117-8406-48b1-b331-0fe597b57051",
   "metadata": {},
   "source": [
    "## Using with a self-querying retriever\n",
    "\n",
    "Now that our query construction chain is in a decent place, let's try using it with an actual retriever. For this example we'll use the [ElasticsearchStore](https://python.langchain.com/docs/integrations/vectorstores/elasticsearch)."
   ]
  },
  {
   "cell_type": "code",
   "execution_count": null,
   "id": "06f30efe-f96a-4baa-9571-1de01596a5ac",
   "metadata": {},
   "outputs": [],
   "source": [
    "from langchain_community.vectorstores import ElasticsearchStore\n",
    "from langchain_openai import OpenAIEmbeddings\n",
    "\n",
    "embeddings = OpenAIEmbeddings()"
   ]
  },
  {
   "cell_type": "markdown",
   "id": "e468e0f6-fc1b-42ab-bf88-7088d8e1aad0",
   "metadata": {},
   "source": [
    "## Populating vectorstore\n",
    "\n",
    "The first time you run this, uncomment the below cell to first index the data."
   ]
  },
  {
   "cell_type": "code",
   "execution_count": null,
   "id": "1f73c1ff-bdb4-4c27-bfa3-c15a1b886244",
   "metadata": {},
   "outputs": [],
   "source": [
    "# docs = []\n",
    "# for _, room in latest_price.fillna(\"\").iterrows():\n",
    "#     doc = Document(\n",
    "#         page_content=json.dumps(room.to_dict(), indent=2),\n",
    "#         metadata=room.to_dict()\n",
    "#     )\n",
    "#     docs.append(doc)\n",
    "# vecstore = ElasticsearchStore.from_documents(\n",
    "#     docs,\n",
    "#     embeddings,\n",
    "#     es_url=\"http://localhost:9200\",\n",
    "#     index_name=\"hotel_rooms\",\n",
    "#     # strategy=ElasticsearchStore.ApproxRetrievalStrategy(\n",
    "#     #     hybrid=True,\n",
    "#     # )\n",
    "# )"
   ]
  },
  {
   "cell_type": "code",
   "execution_count": null,
   "id": "411af3ff-29e2-4042-9060-15f75c4fa0e9",
   "metadata": {},
   "outputs": [],
   "source": [
    "vecstore = ElasticsearchStore(\n",
    "    \"hotel_rooms\",\n",
    "    embedding=embeddings,\n",
    "    es_url=\"http://localhost:9200\",\n",
    "    # strategy=ElasticsearchStore.ApproxRetrievalStrategy(hybrid=True) # seems to not be available in community version\n",
    ")"
   ]
  },
  {
   "cell_type": "code",
   "execution_count": null,
   "id": "309490df-5a5f-4ff6-863b-5a85b8811b44",
   "metadata": {},
   "outputs": [],
   "source": [
    "from langchain.retrievers import SelfQueryRetriever\n",
    "\n",
    "retriever = SelfQueryRetriever(\n",
    "    query_constructor=chain, vectorstore=vecstore, verbose=True\n",
    ")"
   ]
  },
  {
   "cell_type": "code",
   "execution_count": null,
   "id": "3e6aaca9-dd22-403b-8714-23b20137f483",
   "metadata": {},
   "outputs": [],
   "source": [
    "results = retriever.get_relevant_documents(\n",
    "    \"I want to stay somewhere highly rated along the coast. I want a room with a patio and a fireplace.\"\n",
    ")\n",
    "for res in results:\n",
    "    print(res.page_content)\n",
    "    print(\"\\n\" + \"-\" * 20 + \"\\n\")"
   ]
  },
  {
   "cell_type": "code",
   "execution_count": null,
   "id": "8adec291-5853-4d2d-ab5d-294164f07f73",
   "metadata": {},
   "outputs": [],
   "source": []
  }
 ],
 "metadata": {
  "kernelspec": {
   "display_name": "Python 3 (ipykernel)",
   "language": "python",
   "name": "python3"
  },
  "language_info": {
   "codemirror_mode": {
    "name": "ipython",
    "version": 3
   },
   "file_extension": ".py",
   "mimetype": "text/x-python",
   "name": "python",
   "nbconvert_exporter": "python",
   "pygments_lexer": "ipython3",
   "version": "3.8.0"
  }
 },
 "nbformat": 4,
 "nbformat_minor": 5
}